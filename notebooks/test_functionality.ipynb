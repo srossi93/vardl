{
 "cells": [
  {
   "cell_type": "code",
   "execution_count": 1,
   "metadata": {},
   "outputs": [],
   "source": [
    "import sys\n",
    "sys.path.insert(0, '..')"
   ]
  },
  {
   "cell_type": "code",
   "execution_count": 2,
   "metadata": {
    "collapsed": true
   },
   "outputs": [],
   "source": [
    "%load_ext autoreload\n",
    "%autoreload 2\n",
    "import vardl\n",
    "import torch\n",
    "import torch.nn as nn\n",
    "import sklearn.datasets\n",
    "import numpy as np"
   ]
  },
  {
   "cell_type": "code",
   "execution_count": 3,
   "metadata": {},
   "outputs": [],
   "source": [
    "layer = vardl.layers.BayesianLinear(in_features=10, out_features=1, local_reparameterization=True, nmc_test=1, nmc_train=1)"
   ]
  },
  {
   "cell_type": "code",
   "execution_count": 4,
   "metadata": {},
   "outputs": [
    {
     "data": {
      "text/plain": [
       "BayesianLinear(\n",
       "  in_features=10, out_features=1, bias=False, local_repr=factorized\n",
       "  (prior_W): MatrixGaussianDistribution()\n",
       "  (q_posterior_W): MatrixGaussianDistribution()\n",
       ")"
      ]
     },
     "execution_count": 4,
     "metadata": {},
     "output_type": "execute_result"
    }
   ],
   "source": [
    "layer"
   ]
  },
  {
   "cell_type": "code",
   "execution_count": 5,
   "metadata": {},
   "outputs": [],
   "source": [
    "arch = nn.Sequential(layer)"
   ]
  },
  {
   "cell_type": "code",
   "execution_count": 6,
   "metadata": {},
   "outputs": [
    {
     "data": {
      "text/plain": [
       "Sequential(\n",
       "  (0): BayesianLinear(\n",
       "    in_features=10, out_features=1, bias=False, local_repr=factorized\n",
       "    (prior_W): MatrixGaussianDistribution()\n",
       "    (q_posterior_W): MatrixGaussianDistribution()\n",
       "  )\n",
       ")"
      ]
     },
     "execution_count": 6,
     "metadata": {},
     "output_type": "execute_result"
    }
   ],
   "source": [
    "arch"
   ]
  },
  {
   "cell_type": "code",
   "execution_count": 7,
   "metadata": {},
   "outputs": [],
   "source": [
    "model = vardl.models.RegrBayesianNet(architecure=arch, \n",
    "                                     dtype=torch.float32)"
   ]
  },
  {
   "cell_type": "code",
   "execution_count": 8,
   "metadata": {},
   "outputs": [
    {
     "data": {
      "text/plain": [
       "RegrBayesianNet(\n",
       "  (architecture): Sequential(\n",
       "    (0): BayesianLinear(\n",
       "      in_features=10, out_features=1, bias=False, local_repr=factorized\n",
       "      (prior_W): MatrixGaussianDistribution()\n",
       "      (q_posterior_W): MatrixGaussianDistribution()\n",
       "    )\n",
       "  )\n",
       "  (likelihood): Gaussian()\n",
       ")"
      ]
     },
     "execution_count": 8,
     "metadata": {},
     "output_type": "execute_result"
    }
   ],
   "source": [
    "model"
   ]
  },
  {
   "cell_type": "code",
   "execution_count": 9,
   "metadata": {},
   "outputs": [
    {
     "name": "stdout",
     "output_type": "stream",
     "text": [
      "architecture.0.prior_W._mean False\n",
      "architecture.0.prior_W._logvars False\n",
      "architecture.0.q_posterior_W._mean True\n",
      "architecture.0.q_posterior_W._logvars True\n",
      "likelihood.log_noise_var True\n"
     ]
    }
   ],
   "source": [
    "for name, par in model.named_parameters():\n",
    "    print(name, par.requires_grad)"
   ]
  },
  {
   "cell_type": "code",
   "execution_count": 10,
   "metadata": {},
   "outputs": [],
   "source": [
    "X, Y, W = sklearn.datasets.make_regression(n_samples=100000, \n",
    "                                 n_features=10, #100\n",
    "                                 n_informative=5, \n",
    "                                 n_targets=1, bias=0,\n",
    "                                 effective_rank=None,\n",
    "                                 noise=np.exp(0),\n",
    "                                 shuffle=False, coef=True, \n",
    "                                 random_state=0)\n",
    "\n",
    "X = torch.from_numpy(X).float()\n",
    "Y = torch.from_numpy(Y.reshape(-1, 1)).float()"
   ]
  },
  {
   "cell_type": "code",
   "execution_count": 11,
   "metadata": {},
   "outputs": [],
   "source": [
    "from torch.utils.data import DataLoader, TensorDataset\n",
    "dataset = TensorDataset(X, Y)\n",
    "\n",
    "dataloader = DataLoader(dataset, batch_size=256, shuffle=True, \n",
    "                              drop_last=False, num_workers=0)"
   ]
  },
  {
   "cell_type": "code",
   "execution_count": 12,
   "metadata": {},
   "outputs": [],
   "source": [
    "trainer = vardl.trainer.TrainerRegressor(model=model, \n",
    "                                         train_dataloader=dataloader, \n",
    "                                         test_dataloader=dataloader, \n",
    "                                         optimizer='Adam', \n",
    "                                         optimizer_config={'lr':0.1}, \n",
    "                                         device='cpu', \n",
    "                                         seed=0)"
   ]
  },
  {
   "cell_type": "code",
   "execution_count": 13,
   "metadata": {},
   "outputs": [
    {
     "name": "stdout",
     "output_type": "stream",
     "text": [
      "\u001b[1m\u001b[34mTrain\u001b[0m || iter=  100   loss=6376268288  error=131.37  log_theta_noise_var=-2.00\n",
      "\u001b[1m\u001b[34mTrain\u001b[0m || iter=  200   loss=4611614208  error=111.72  log_theta_noise_var=-2.00\n",
      "\u001b[1m\u001b[34mTrain\u001b[0m || iter=  300   loss=3406280704  error=96.02  log_theta_noise_var=-2.00\n",
      "\u001b[1m\u001b[34mTrain\u001b[0m || iter=  400   loss=2329985280  error=79.41  log_theta_noise_var=-2.00\n",
      "\u001b[1m\u001b[34mTrain\u001b[0m || iter=  500   loss=1752567680  error=68.87  log_theta_noise_var=-2.00\n",
      "\u001b[1m\u001b[34mTrain\u001b[0m || iter=  600   loss= 949006272  error=50.68  log_theta_noise_var=-2.00\n",
      "\u001b[1m\u001b[34mTrain\u001b[0m || iter=  700   loss= 615964544  error=40.83  log_theta_noise_var=-2.00\n",
      "\u001b[1m\u001b[34mTrain\u001b[0m || iter=  800   loss= 444020640  error=34.67  log_theta_noise_var=-2.00\n",
      "\u001b[1m\u001b[34mTrain\u001b[0m || iter=  900   loss= 298856448  error=28.44  log_theta_noise_var=-2.00\n",
      "\u001b[1m\u001b[34mTrain\u001b[0m || iter= 1000   loss= 178509152  error=21.98  log_theta_noise_var=-2.00\n"
     ]
    }
   ],
   "source": [
    "for _ in range(1000):\n",
    "    trainer.model.likelihood.log_noise_var.requires_grad = False\n",
    "    trainer.train_batch(*next(iter(dataloader)))"
   ]
  },
  {
   "cell_type": "code",
   "execution_count": 33,
   "metadata": {},
   "outputs": [
    {
     "data": {
      "text/plain": [
       "Parameter containing:\n",
       "tensor([[16.9489],\n",
       "        [16.5895],\n",
       "        [10.0688],\n",
       "        [18.3010],\n",
       "        [16.0238],\n",
       "        [ 0.0727],\n",
       "        [-0.2205],\n",
       "        [ 0.0074],\n",
       "        [ 0.1137],\n",
       "        [ 0.0054]], requires_grad=True)"
      ]
     },
     "execution_count": 33,
     "metadata": {},
     "output_type": "execute_result"
    }
   ],
   "source": [
    "model.architecture[0].q_posterior_W.mean"
   ]
  },
  {
   "cell_type": "code",
   "execution_count": 14,
   "metadata": {},
   "outputs": [
    {
     "data": {
      "text/plain": [
       "array([81.17220954, 64.40445972, 23.64951166, 81.73135271, 62.05559643,\n",
       "        0.        ,  0.        ,  0.        ,  0.        ,  0.        ])"
      ]
     },
     "execution_count": 14,
     "metadata": {},
     "output_type": "execute_result"
    }
   ],
   "source": [
    "W"
   ]
  },
  {
   "cell_type": "code",
   "execution_count": null,
   "metadata": {},
   "outputs": [],
   "source": []
  }
 ],
 "metadata": {
  "kernelspec": {
   "display_name": "Python 3",
   "language": "python",
   "name": "python3"
  },
  "language_info": {
   "codemirror_mode": {
    "name": "ipython",
    "version": 3
   },
   "file_extension": ".py",
   "mimetype": "text/x-python",
   "name": "python",
   "nbconvert_exporter": "python",
   "pygments_lexer": "ipython3",
   "version": "3.6.5"
  }
 },
 "nbformat": 4,
 "nbformat_minor": 2
}
